{
 "cells": [
  {
   "cell_type": "markdown",
   "metadata": {},
   "source": [
    "The company is interested in grouping popular games into “support solo” (minimum player = 1) and\n",
    "“not support solo” (minimum player > 1), because single-player games require a different design strategy.\n",
    "\n",
    "Instructions:\n",
    "Your table should clearly communicate information about these two groups (games that support solo & games\n",
    "that do not support solo) simultaneously. \n",
    "\n",
    "For each group, show:\n",
    "1. Total game count in each category (fighting, economic, ...)\n",
    "\n",
    "2. The most representative game (game with the highest number of ratings) in each category. If more\n",
    "than one game have the same ratings, pick the game that you prefer.\n",
    "\n",
    "3. Average rating of games in each category, rounded to the nearest 2 decimal places\n",
    "\n",
    "4. Average playtime of games in each category, rounded to the nearest 2 decimal places\n",
    "\n",
    "5. In the bottom left corner below your table include your GT username. (If you decide to use Tableau,\n",
    "this can be done by including a caption when exporting an image of a worksheet or by adding a text\n",
    "box to a dashboard. Refer to the tutorial here.)\n",
    "\n",
    "6. Save the table as table.png. (If you decide to use Tableau, to save a worksheet image, go to\n",
    "Worksheet - Export - Image. And to save a dashboard image, go to Dashboard - Export Image. Do\n",
    "not simply take a screenshot since your image should have a high resolution.)"
   ]
  },
  {
   "cell_type": "markdown",
   "metadata": {},
   "source": [
    "## 1. Load data "
   ]
  },
  {
   "cell_type": "code",
   "execution_count": 1,
   "metadata": {},
   "outputs": [],
   "source": [
    "import pandas as pd\n",
    "import matplotlib.pyplot as plt \n",
    "import numpy as np\n",
    "%matplotlib inline"
   ]
  },
  {
   "cell_type": "code",
   "execution_count": 2,
   "metadata": {
    "scrolled": true
   },
   "outputs": [
    {
     "name": "stdout",
     "output_type": "stream",
     "text": [
      "(244, 7)\n"
     ]
    },
    {
     "data": {
      "text/html": [
       "<div>\n",
       "<style scoped>\n",
       "    .dataframe tbody tr th:only-of-type {\n",
       "        vertical-align: middle;\n",
       "    }\n",
       "\n",
       "    .dataframe tbody tr th {\n",
       "        vertical-align: top;\n",
       "    }\n",
       "\n",
       "    .dataframe thead th {\n",
       "        text-align: right;\n",
       "    }\n",
       "</style>\n",
       "<table border=\"1\" class=\"dataframe\">\n",
       "  <thead>\n",
       "    <tr style=\"text-align: right;\">\n",
       "      <th></th>\n",
       "      <th>name</th>\n",
       "      <th>category</th>\n",
       "      <th>playtime</th>\n",
       "      <th>playtime_num</th>\n",
       "      <th>avg_rating</th>\n",
       "      <th>num_ratings</th>\n",
       "      <th>min_players</th>\n",
       "    </tr>\n",
       "  </thead>\n",
       "  <tbody>\n",
       "    <tr>\n",
       "      <th>0</th>\n",
       "      <td>Agricola</td>\n",
       "      <td>Economic</td>\n",
       "      <td>&gt;90</td>\n",
       "      <td>150</td>\n",
       "      <td>7.98857</td>\n",
       "      <td>61557</td>\n",
       "      <td>1</td>\n",
       "    </tr>\n",
       "    <tr>\n",
       "      <th>1</th>\n",
       "      <td>Puerto Rico</td>\n",
       "      <td>Economic</td>\n",
       "      <td>&gt;90</td>\n",
       "      <td>150</td>\n",
       "      <td>8.03590</td>\n",
       "      <td>61157</td>\n",
       "      <td>3</td>\n",
       "    </tr>\n",
       "    <tr>\n",
       "      <th>2</th>\n",
       "      <td>Small World</td>\n",
       "      <td>Fighting</td>\n",
       "      <td>(60, 90]</td>\n",
       "      <td>80</td>\n",
       "      <td>7.29949</td>\n",
       "      <td>59211</td>\n",
       "      <td>2</td>\n",
       "    </tr>\n",
       "    <tr>\n",
       "      <th>3</th>\n",
       "      <td>Codenames</td>\n",
       "      <td>Deduction</td>\n",
       "      <td>&lt;=30</td>\n",
       "      <td>15</td>\n",
       "      <td>7.71148</td>\n",
       "      <td>62563</td>\n",
       "      <td>2</td>\n",
       "    </tr>\n",
       "    <tr>\n",
       "      <th>4</th>\n",
       "      <td>Power Grid</td>\n",
       "      <td>Economic</td>\n",
       "      <td>&gt;90</td>\n",
       "      <td>120</td>\n",
       "      <td>7.89004</td>\n",
       "      <td>54420</td>\n",
       "      <td>2</td>\n",
       "    </tr>\n",
       "  </tbody>\n",
       "</table>\n",
       "</div>"
      ],
      "text/plain": [
       "          name   category  playtime  playtime_num  avg_rating  num_ratings  \\\n",
       "0     Agricola   Economic       >90           150     7.98857        61557   \n",
       "1  Puerto Rico   Economic       >90           150     8.03590        61157   \n",
       "2  Small World   Fighting  (60, 90]            80     7.29949        59211   \n",
       "3    Codenames  Deduction      <=30            15     7.71148        62563   \n",
       "4   Power Grid   Economic       >90           120     7.89004        54420   \n",
       "\n",
       "   min_players  \n",
       "0            1  \n",
       "1            3  \n",
       "2            2  \n",
       "3            2  \n",
       "4            2  "
      ]
     },
     "execution_count": 2,
     "metadata": {},
     "output_type": "execute_result"
    }
   ],
   "source": [
    "df = pd.read_csv('popular_board_game.csv')\n",
    "print(df.shape)\n",
    "df.head()"
   ]
  },
  {
   "cell_type": "code",
   "execution_count": 3,
   "metadata": {
    "scrolled": false
   },
   "outputs": [
    {
     "name": "stdout",
     "output_type": "stream",
     "text": [
      "(48, 7)\n"
     ]
    },
    {
     "data": {
      "text/html": [
       "<div>\n",
       "<style scoped>\n",
       "    .dataframe tbody tr th:only-of-type {\n",
       "        vertical-align: middle;\n",
       "    }\n",
       "\n",
       "    .dataframe tbody tr th {\n",
       "        vertical-align: top;\n",
       "    }\n",
       "\n",
       "    .dataframe thead th {\n",
       "        text-align: right;\n",
       "    }\n",
       "</style>\n",
       "<table border=\"1\" class=\"dataframe\">\n",
       "  <thead>\n",
       "    <tr style=\"text-align: right;\">\n",
       "      <th></th>\n",
       "      <th>name</th>\n",
       "      <th>category</th>\n",
       "      <th>playtime</th>\n",
       "      <th>playtime_num</th>\n",
       "      <th>avg_rating</th>\n",
       "      <th>num_ratings</th>\n",
       "      <th>min_players</th>\n",
       "    </tr>\n",
       "  </thead>\n",
       "  <tbody>\n",
       "    <tr>\n",
       "      <th>0</th>\n",
       "      <td>Agricola</td>\n",
       "      <td>Economic</td>\n",
       "      <td>&gt;90</td>\n",
       "      <td>150</td>\n",
       "      <td>7.98857</td>\n",
       "      <td>61557</td>\n",
       "      <td>1</td>\n",
       "    </tr>\n",
       "    <tr>\n",
       "      <th>11</th>\n",
       "      <td>Scythe</td>\n",
       "      <td>Economic</td>\n",
       "      <td>&gt;90</td>\n",
       "      <td>115</td>\n",
       "      <td>8.28410</td>\n",
       "      <td>52513</td>\n",
       "      <td>1</td>\n",
       "    </tr>\n",
       "    <tr>\n",
       "      <th>12</th>\n",
       "      <td>Terraforming Mars</td>\n",
       "      <td>Economic</td>\n",
       "      <td>&gt;90</td>\n",
       "      <td>120</td>\n",
       "      <td>8.40331</td>\n",
       "      <td>57359</td>\n",
       "      <td>1</td>\n",
       "    </tr>\n",
       "    <tr>\n",
       "      <th>14</th>\n",
       "      <td>Arkham Horror</td>\n",
       "      <td>Fighting</td>\n",
       "      <td>&gt;90</td>\n",
       "      <td>360</td>\n",
       "      <td>7.29157</td>\n",
       "      <td>36102</td>\n",
       "      <td>1</td>\n",
       "    </tr>\n",
       "    <tr>\n",
       "      <th>23</th>\n",
       "      <td>Robinson Crusoe: Adventures on the Cursed Island</td>\n",
       "      <td>Fighting</td>\n",
       "      <td>&gt;90</td>\n",
       "      <td>120</td>\n",
       "      <td>7.90738</td>\n",
       "      <td>31773</td>\n",
       "      <td>1</td>\n",
       "    </tr>\n",
       "  </tbody>\n",
       "</table>\n",
       "</div>"
      ],
      "text/plain": [
       "                                                name  category playtime  \\\n",
       "0                                           Agricola  Economic      >90   \n",
       "11                                            Scythe  Economic      >90   \n",
       "12                                 Terraforming Mars  Economic      >90   \n",
       "14                                     Arkham Horror  Fighting      >90   \n",
       "23  Robinson Crusoe: Adventures on the Cursed Island  Fighting      >90   \n",
       "\n",
       "    playtime_num  avg_rating  num_ratings  min_players  \n",
       "0            150     7.98857        61557            1  \n",
       "11           115     8.28410        52513            1  \n",
       "12           120     8.40331        57359            1  \n",
       "14           360     7.29157        36102            1  \n",
       "23           120     7.90738        31773            1  "
      ]
     },
     "execution_count": 3,
     "metadata": {},
     "output_type": "execute_result"
    }
   ],
   "source": [
    "solo = df[df.min_players == 1]\n",
    "print(solo.shape)\n",
    "solo.head()"
   ]
  },
  {
   "cell_type": "code",
   "execution_count": 4,
   "metadata": {},
   "outputs": [
    {
     "name": "stdout",
     "output_type": "stream",
     "text": [
      "(196, 7)\n"
     ]
    },
    {
     "data": {
      "text/html": [
       "<div>\n",
       "<style scoped>\n",
       "    .dataframe tbody tr th:only-of-type {\n",
       "        vertical-align: middle;\n",
       "    }\n",
       "\n",
       "    .dataframe tbody tr th {\n",
       "        vertical-align: top;\n",
       "    }\n",
       "\n",
       "    .dataframe thead th {\n",
       "        text-align: right;\n",
       "    }\n",
       "</style>\n",
       "<table border=\"1\" class=\"dataframe\">\n",
       "  <thead>\n",
       "    <tr style=\"text-align: right;\">\n",
       "      <th></th>\n",
       "      <th>name</th>\n",
       "      <th>category</th>\n",
       "      <th>playtime</th>\n",
       "      <th>playtime_num</th>\n",
       "      <th>avg_rating</th>\n",
       "      <th>num_ratings</th>\n",
       "      <th>min_players</th>\n",
       "    </tr>\n",
       "  </thead>\n",
       "  <tbody>\n",
       "    <tr>\n",
       "      <th>1</th>\n",
       "      <td>Puerto Rico</td>\n",
       "      <td>Economic</td>\n",
       "      <td>&gt;90</td>\n",
       "      <td>150</td>\n",
       "      <td>8.03590</td>\n",
       "      <td>61157</td>\n",
       "      <td>3</td>\n",
       "    </tr>\n",
       "    <tr>\n",
       "      <th>2</th>\n",
       "      <td>Small World</td>\n",
       "      <td>Fighting</td>\n",
       "      <td>(60, 90]</td>\n",
       "      <td>80</td>\n",
       "      <td>7.29949</td>\n",
       "      <td>59211</td>\n",
       "      <td>2</td>\n",
       "    </tr>\n",
       "    <tr>\n",
       "      <th>3</th>\n",
       "      <td>Codenames</td>\n",
       "      <td>Deduction</td>\n",
       "      <td>&lt;=30</td>\n",
       "      <td>15</td>\n",
       "      <td>7.71148</td>\n",
       "      <td>62563</td>\n",
       "      <td>2</td>\n",
       "    </tr>\n",
       "    <tr>\n",
       "      <th>4</th>\n",
       "      <td>Power Grid</td>\n",
       "      <td>Economic</td>\n",
       "      <td>&gt;90</td>\n",
       "      <td>120</td>\n",
       "      <td>7.89004</td>\n",
       "      <td>54420</td>\n",
       "      <td>2</td>\n",
       "    </tr>\n",
       "    <tr>\n",
       "      <th>5</th>\n",
       "      <td>King of Tokyo</td>\n",
       "      <td>Fighting</td>\n",
       "      <td>&lt;=30</td>\n",
       "      <td>30</td>\n",
       "      <td>7.23048</td>\n",
       "      <td>54881</td>\n",
       "      <td>2</td>\n",
       "    </tr>\n",
       "  </tbody>\n",
       "</table>\n",
       "</div>"
      ],
      "text/plain": [
       "            name   category  playtime  playtime_num  avg_rating  num_ratings  \\\n",
       "1    Puerto Rico   Economic       >90           150     8.03590        61157   \n",
       "2    Small World   Fighting  (60, 90]            80     7.29949        59211   \n",
       "3      Codenames  Deduction      <=30            15     7.71148        62563   \n",
       "4     Power Grid   Economic       >90           120     7.89004        54420   \n",
       "5  King of Tokyo   Fighting      <=30            30     7.23048        54881   \n",
       "\n",
       "   min_players  \n",
       "1            3  \n",
       "2            2  \n",
       "3            2  \n",
       "4            2  \n",
       "5            2  "
      ]
     },
     "execution_count": 4,
     "metadata": {},
     "output_type": "execute_result"
    }
   ],
   "source": [
    "not_solo = df[df.min_players > 1]\n",
    "print(not_solo.shape)\n",
    "not_solo.head()"
   ]
  },
  {
   "cell_type": "markdown",
   "metadata": {},
   "source": [
    "## 2. Get categories and category counts "
   ]
  },
  {
   "cell_type": "code",
   "execution_count": 5,
   "metadata": {},
   "outputs": [],
   "source": [
    "categories = df.category.unique().tolist()"
   ]
  },
  {
   "cell_type": "code",
   "execution_count": 36,
   "metadata": {},
   "outputs": [],
   "source": [
    "def get_category_counts(df, categories) -> list:\n",
    "    cat_counts = []\n",
    "\n",
    "    for cat in categories: \n",
    "        try:\n",
    "            count = str(df.category.value_counts()[cat])\n",
    "            cat_counts.append(count)\n",
    "        except: \n",
    "            cat_counts.append(np.nan)\n",
    "            \n",
    "    return cat_counts"
   ]
  },
  {
   "cell_type": "code",
   "execution_count": 37,
   "metadata": {},
   "outputs": [],
   "source": [
    "solo_cat_counts = get_category_counts(solo, categories)\n",
    "nsolo_cat_counts = get_category_counts(not_solo, categories)"
   ]
  },
  {
   "cell_type": "markdown",
   "metadata": {},
   "source": [
    "## 3. The most representative game of each category"
   ]
  },
  {
   "cell_type": "code",
   "execution_count": 8,
   "metadata": {},
   "outputs": [],
   "source": [
    "def get_most_rep_game(df, categories):\n",
    "    best_games = []\n",
    "    \n",
    "    for cat in categories:\n",
    "        cat_df = df[df.category == cat] # get df for that category \n",
    "        try:\n",
    "            max_rating = cat_df[cat_df.avg_rating == max(cat_df.avg_rating)]\n",
    "            best_games.append(max_rating['name'].values[0])\n",
    "            \n",
    "        except: \n",
    "            best_games.append(' ')\n",
    "            continue\n",
    "    \n",
    "    return best_games\n",
    "        "
   ]
  },
  {
   "cell_type": "code",
   "execution_count": 9,
   "metadata": {},
   "outputs": [],
   "source": [
    "best_cat_game_solo = get_most_rep_game(solo, categories)\n",
    "best_cat_game_nsolo = get_most_rep_game(not_solo, categories)"
   ]
  },
  {
   "cell_type": "markdown",
   "metadata": {},
   "source": [
    "## 4. Average rating of games in each category"
   ]
  },
  {
   "cell_type": "code",
   "execution_count": 33,
   "metadata": {},
   "outputs": [],
   "source": [
    "def get_avg_rating(df, categories):\n",
    "    avg_ratings = []\n",
    "    \n",
    "    for cat in categories:\n",
    "        cat_df = df[df.category == cat] # get df for that category \n",
    "        try:\n",
    "            avg_rating = \"%.2f\" %cat_df.avg_rating.mean()\n",
    "            avg_ratings.append(avg_rating)\n",
    "            \n",
    "        except: \n",
    "            avg_ratings.append(' ')\n",
    "            continue\n",
    "    \n",
    "    return avg_ratings\n",
    "        "
   ]
  },
  {
   "cell_type": "code",
   "execution_count": 34,
   "metadata": {},
   "outputs": [],
   "source": [
    "avg_rating_solo = get_avg_rating(solo, categories)\n",
    "avg_rating_nsolo = get_avg_rating(not_solo, categories)"
   ]
  },
  {
   "cell_type": "markdown",
   "metadata": {},
   "source": [
    "## 5. Average playtime"
   ]
  },
  {
   "cell_type": "code",
   "execution_count": 35,
   "metadata": {},
   "outputs": [],
   "source": [
    "def get_avg_play_time(df, categories):\n",
    "    avg_play_times = []\n",
    "    \n",
    "    for cat in categories:\n",
    "        cat_df = df[df.category == cat] # get df for that category \n",
    "        try:\n",
    "            avg_time = \"%.2f\" %cat_df.playtime_num.mean()\n",
    "            avg_play_times.append(avg_time)\n",
    "            \n",
    "        except: \n",
    "            avg_play_times.append(' ')\n",
    "            continue\n",
    "    \n",
    "    return avg_play_times\n",
    "        "
   ]
  },
  {
   "cell_type": "code",
   "execution_count": 31,
   "metadata": {},
   "outputs": [],
   "source": [
    "avg_time_solo = get_avg_play_time(solo, categories)\n",
    "avg_time_nsolo = get_avg_play_time(not_solo, categories)"
   ]
  },
  {
   "cell_type": "markdown",
   "metadata": {},
   "source": [
    "## 6. Creating dfs"
   ]
  },
  {
   "cell_type": "code",
   "execution_count": 25,
   "metadata": {},
   "outputs": [],
   "source": [
    "solo_df = pd.DataFrame(index = categories)"
   ]
  },
  {
   "cell_type": "code",
   "execution_count": 49,
   "metadata": {},
   "outputs": [
    {
     "data": {
      "text/html": [
       "<div>\n",
       "<style scoped>\n",
       "    .dataframe tbody tr th:only-of-type {\n",
       "        vertical-align: middle;\n",
       "    }\n",
       "\n",
       "    .dataframe tbody tr th {\n",
       "        vertical-align: top;\n",
       "    }\n",
       "\n",
       "    .dataframe thead th {\n",
       "        text-align: right;\n",
       "    }\n",
       "</style>\n",
       "<table border=\"1\" class=\"dataframe\">\n",
       "  <thead>\n",
       "    <tr style=\"text-align: right;\">\n",
       "      <th></th>\n",
       "      <th>Game count</th>\n",
       "      <th>Most representative game</th>\n",
       "      <th>Average rating</th>\n",
       "      <th>Average playtime</th>\n",
       "    </tr>\n",
       "  </thead>\n",
       "  <tbody>\n",
       "    <tr>\n",
       "      <th>Economic</th>\n",
       "      <td>23</td>\n",
       "      <td>Gaia Project</td>\n",
       "      <td>7.95</td>\n",
       "      <td>126.52</td>\n",
       "    </tr>\n",
       "    <tr>\n",
       "      <th>Fighting</th>\n",
       "      <td>21</td>\n",
       "      <td>Gloomhaven</td>\n",
       "      <td>7.52</td>\n",
       "      <td>113.33</td>\n",
       "    </tr>\n",
       "    <tr>\n",
       "      <th>Deduction</th>\n",
       "      <td>3</td>\n",
       "      <td>Chronicles of Crime</td>\n",
       "      <td>7.84</td>\n",
       "      <td>110.00</td>\n",
       "    </tr>\n",
       "    <tr>\n",
       "      <th>Bluffing</th>\n",
       "      <td></td>\n",
       "      <td></td>\n",
       "      <td></td>\n",
       "      <td></td>\n",
       "    </tr>\n",
       "    <tr>\n",
       "      <th>Party Game</th>\n",
       "      <td>1</td>\n",
       "      <td>Jenga</td>\n",
       "      <td>5.58</td>\n",
       "      <td>20.00</td>\n",
       "    </tr>\n",
       "  </tbody>\n",
       "</table>\n",
       "</div>"
      ],
      "text/plain": [
       "           Game count Most representative game Average rating Average playtime\n",
       "Economic           23             Gaia Project           7.95           126.52\n",
       "Fighting           21               Gloomhaven           7.52           113.33\n",
       "Deduction           3      Chronicles of Crime           7.84           110.00\n",
       "Bluffing                                                                      \n",
       "Party Game          1                    Jenga           5.58            20.00"
      ]
     },
     "execution_count": 49,
     "metadata": {},
     "output_type": "execute_result"
    }
   ],
   "source": [
    "solo_df['Game count'] = solo_cat_counts\n",
    "solo_df['Most representative game'] = best_cat_game_solo\n",
    "solo_df['Average rating'] = avg_rating_solo\n",
    "solo_df['Average playtime'] = avg_time_solo\n",
    "\n",
    "solo_df.replace('nan', ' ', inplace = True)\n",
    "solo_df.replace(np.nan, ' ', inplace = True)\n",
    "\n",
    "solo_df"
   ]
  },
  {
   "cell_type": "code",
   "execution_count": 111,
   "metadata": {
    "scrolled": true
   },
   "outputs": [
    {
     "data": {
      "text/html": [
       "<div>\n",
       "<style scoped>\n",
       "    .dataframe tbody tr th:only-of-type {\n",
       "        vertical-align: middle;\n",
       "    }\n",
       "\n",
       "    .dataframe tbody tr th {\n",
       "        vertical-align: top;\n",
       "    }\n",
       "\n",
       "    .dataframe thead th {\n",
       "        text-align: right;\n",
       "    }\n",
       "</style>\n",
       "<table border=\"1\" class=\"dataframe\">\n",
       "  <thead>\n",
       "    <tr style=\"text-align: right;\">\n",
       "      <th></th>\n",
       "      <th>Game count</th>\n",
       "      <th>Most representative game</th>\n",
       "      <th>Average rating</th>\n",
       "      <th>Average playtime</th>\n",
       "      <th>Game count</th>\n",
       "      <th>Most representative game</th>\n",
       "      <th>Average rating</th>\n",
       "      <th>Average playtime</th>\n",
       "    </tr>\n",
       "  </thead>\n",
       "  <tbody>\n",
       "    <tr>\n",
       "      <th>Economic</th>\n",
       "      <td>23</td>\n",
       "      <td>Gaia Project</td>\n",
       "      <td>7.95</td>\n",
       "      <td>126.52</td>\n",
       "      <td>65</td>\n",
       "      <td>Twilight Imperium (Fourth Edition)</td>\n",
       "      <td>7.49</td>\n",
       "      <td>105.92</td>\n",
       "    </tr>\n",
       "    <tr>\n",
       "      <th>Fighting</th>\n",
       "      <td>21</td>\n",
       "      <td>Gloomhaven</td>\n",
       "      <td>7.52</td>\n",
       "      <td>113.33</td>\n",
       "      <td>48</td>\n",
       "      <td>Star Wars: Rebellion</td>\n",
       "      <td>7.40</td>\n",
       "      <td>103.75</td>\n",
       "    </tr>\n",
       "    <tr>\n",
       "      <th>Deduction</th>\n",
       "      <td>3</td>\n",
       "      <td>Chronicles of Crime</td>\n",
       "      <td>7.84</td>\n",
       "      <td>110.00</td>\n",
       "      <td>19</td>\n",
       "      <td>Decrypto</td>\n",
       "      <td>7.28</td>\n",
       "      <td>55.89</td>\n",
       "    </tr>\n",
       "    <tr>\n",
       "      <th>Bluffing</th>\n",
       "      <td></td>\n",
       "      <td></td>\n",
       "      <td></td>\n",
       "      <td></td>\n",
       "      <td>47</td>\n",
       "      <td>Rising Sun</td>\n",
       "      <td>7.12</td>\n",
       "      <td>68.19</td>\n",
       "    </tr>\n",
       "    <tr>\n",
       "      <th>Party Game</th>\n",
       "      <td>1</td>\n",
       "      <td>Jenga</td>\n",
       "      <td>5.58</td>\n",
       "      <td>20.00</td>\n",
       "      <td>17</td>\n",
       "      <td>Just One</td>\n",
       "      <td>6.54</td>\n",
       "      <td>36.18</td>\n",
       "    </tr>\n",
       "  </tbody>\n",
       "</table>\n",
       "</div>"
      ],
      "text/plain": [
       "           Game count Most representative game Average rating  \\\n",
       "Economic           23             Gaia Project           7.95   \n",
       "Fighting           21               Gloomhaven           7.52   \n",
       "Deduction           3      Chronicles of Crime           7.84   \n",
       "Bluffing                                                        \n",
       "Party Game          1                    Jenga           5.58   \n",
       "\n",
       "           Average playtime Game count            Most representative game   \\\n",
       "Economic             126.52          65  Twilight Imperium (Fourth Edition)   \n",
       "Fighting             113.33          48                Star Wars: Rebellion   \n",
       "Deduction            110.00          19                            Decrypto   \n",
       "Bluffing                             47                          Rising Sun   \n",
       "Party Game            20.00          17                            Just One   \n",
       "\n",
       "           Average rating  Average playtime   \n",
       "Economic              7.49            105.92  \n",
       "Fighting              7.40            103.75  \n",
       "Deduction             7.28             55.89  \n",
       "Bluffing              7.12             68.19  \n",
       "Party Game            6.54             36.18  "
      ]
     },
     "execution_count": 111,
     "metadata": {},
     "output_type": "execute_result"
    }
   ],
   "source": [
    "solo_df['Game count '] = nsolo_cat_counts\n",
    "solo_df['Most representative game '] = best_cat_game_nsolo\n",
    "solo_df['Average rating '] = avg_rating_nsolo\n",
    "solo_df['Average playtime '] = avg_time_nsolo\n",
    "\n",
    "solo_df.replace('nan', ' ', inplace = True)\n",
    "solo_df.replace(np.nan, ' ', inplace = True)\n",
    "\n",
    "solo_df"
   ]
  },
  {
   "cell_type": "code",
   "execution_count": 148,
   "metadata": {},
   "outputs": [],
   "source": [
    "solo_df.replace('Twilight Imperium (Fourth Edition)', \"Twilight Imperium\", inplace=True)"
   ]
  },
  {
   "cell_type": "markdown",
   "metadata": {},
   "source": [
    "## 7. Designing the table"
   ]
  },
  {
   "cell_type": "code",
   "execution_count": 149,
   "metadata": {},
   "outputs": [],
   "source": [
    "table_columns =['Game count', \n",
    "                'Most representative game', \n",
    "                'Average rating',  \n",
    "                'Average playtime']\n",
    "table_rows = [cat for cat in categories]"
   ]
  },
  {
   "cell_type": "code",
   "execution_count": 150,
   "metadata": {},
   "outputs": [],
   "source": [
    "colors = ['r','r','r','r','r']\n",
    "cell_text = [count for count in solo_cat_counts]"
   ]
  },
  {
   "cell_type": "code",
   "execution_count": 179,
   "metadata": {
    "scrolled": false
   },
   "outputs": [
    {
     "data": {
      "image/png": "[encoded data removed]",
      "text/plain": [
       "<Figure size 2160x2520 with 1 Axes>"
      ]
     },
     "metadata": {
      "needs_background": "light"
     },
     "output_type": "display_data"
    }
   ],
   "source": [
    "# ax0,ax1,ax2,ax3 = axes.flatten()\n",
    "fig,ax = plt.subplots(figsize = [30,35])\n",
    "\n",
    "# hide axes\n",
    "fig.patch.set_visible(False)\n",
    "ax.axis('off')\n",
    "ax.axis('tight')\n",
    "\n",
    "\n",
    "header=plt.table(cellText = [['']*2],\n",
    "                    colLabels = ['Supprts solo', 'Does not support solo'],\n",
    "                    loc = 'top',\n",
    "         bbox=[0, -0.1, 1.0, 0.1]\n",
    ")\n",
    "\n",
    "header.auto_set_font_size(False)\n",
    "header.set_fontsize(30)\n",
    "header.scale(1.5, 1.5)\n",
    "\n",
    "table=plt.table(cellText=solo_df.values,\n",
    "                     rowLabels = solo_df.index,\n",
    "                     colLabels = solo_df.columns,\n",
    "                    loc ='top',\n",
    "         bbox=[0, -0.35, 1.0, 0.3])\n",
    "                \n",
    "\n",
    "table.auto_set_font_size(False)\n",
    "table.set_fontsize(14)\n",
    "table.scale(1.5, 1.5) \n",
    "plt.text(-.06, -0.0945, 'eperalta6', fontsize=20)\n",
    "\n",
    "plt.show()\n",
    "\n"
   ]
  },
  {
   "cell_type": "code",
   "execution_count": null,
   "metadata": {},
   "outputs": [],
   "source": []
  },
  {
   "cell_type": "code",
   "execution_count": null,
   "metadata": {},
   "outputs": [],
   "source": []
  }
 ],
 "metadata": {
  "kernelspec": {
   "display_name": "Python 3",
   "language": "python",
   "name": "python3"
  },
  "language_info": {
   "codemirror_mode": {
    "name": "ipython",
    "version": 3
   },
   "file_extension": ".py",
   "mimetype": "text/x-python",
   "name": "python",
   "nbconvert_exporter": "python",
   "pygments_lexer": "ipython3",
   "version": "3.7.9"
  }
 },
 "nbformat": 4,
 "nbformat_minor": 4
}
